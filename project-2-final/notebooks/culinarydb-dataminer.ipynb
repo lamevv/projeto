{
 "cells": [
  {
   "attachments": {},
   "cell_type": "markdown",
   "metadata": {},
   "source": [
    "# CulinaryDB DataMiner\n",
    "\n",
    "<a href='https://cosylab.iiitd.edu.in/culinarydb/'>`https://cosylab.iiitd.edu.in/culinarydb`</a>\n",
    "\n",
    "O culinary db apresenta informações quantitativas dos ingredientes de forma irregular dentro de strings. É preciso extrair essas informações para apresentá-las de forma consistente para a realização de análises."
   ]
  },
  {
   "cell_type": "code",
   "execution_count": null,
   "metadata": {},
   "outputs": [],
   "source": [
    "import pandas as pd\n",
    "\n",
    "recipes = pd.read_csv('./raw/04_Recipe-Ingredients_Aliases.csv')\n",
    "recipes"
   ]
  },
  {
   "cell_type": "markdown",
   "metadata": {},
   "source": [
    "### Identificação de quantidades\n",
    "\n",
    "Função para a identificação de quantidades. As quantidades aparecem no texto no formato `a/b`, `a b/c unidade`. "
   ]
  },
  {
   "cell_type": "code",
   "execution_count": null,
   "metadata": {},
   "outputs": [],
   "source": [
    "import re\n",
    "\n",
    "def extrair_parte_numerica(texto):\n",
    "    i = 0\n",
    "    nums = [str(i) for i in range(10)]\n",
    "    while i < len(texto):\n",
    "        if str(texto[i]) not in nums:\n",
    "            if texto[i] != \"/\" and texto[i] != \" \":\n",
    "                break\n",
    "        i += 1\n",
    "    return texto[:i]\n",
    "\n",
    "\n",
    "def extrair_numeros(texto):\n",
    "    padrao = r'(\\d+\\s*/\\s*\\d+|\\d+)'\n",
    "    texto_numerico = extrair_parte_numerica(texto)\n",
    "    correspondencias = re.findall(padrao, texto_numerico)\n",
    "    val = 0\n",
    "    for correspondencia in correspondencias:\n",
    "        if \"/\" in correspondencia:\n",
    "            num, den = [int(x) for x in \"\".join(correspondencia.split()).split(\"/\")]\n",
    "            val += num / den\n",
    "        else:\n",
    "            val += int(correspondencia.strip())\n",
    "    if not val:\n",
    "        return 1.0\n",
    "    return val\n",
    "recipes['quantidade'] = recipes['Original Ingredient Name'].apply(extrair_numeros)\n",
    "recipes"
   ]
  }
 ],
 "metadata": {
  "kernelspec": {
   "display_name": "Python 3",
   "language": "python",
   "name": "python3"
  },
  "language_info": {
   "codemirror_mode": {
    "name": "ipython",
    "version": 3
   },
   "file_extension": ".py",
   "mimetype": "text/x-python",
   "name": "python",
   "nbconvert_exporter": "python",
   "pygments_lexer": "ipython3",
   "version": "3.10.12"
  }
 },
 "nbformat": 4,
 "nbformat_minor": 2
}
