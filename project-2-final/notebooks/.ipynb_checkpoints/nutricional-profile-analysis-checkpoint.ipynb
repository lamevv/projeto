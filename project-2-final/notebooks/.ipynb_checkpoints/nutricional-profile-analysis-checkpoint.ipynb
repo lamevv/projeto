{
 "cells": [
  {
   "cell_type": "markdown",
   "metadata": {},
   "source": [
    "# Análise do Perfil Nutricional Por Região"
   ]
  },
  {
   "cell_type": "code",
   "execution_count": null,
   "metadata": {
    "vscode": {
     "languageId": "sql"
    }
   },
   "outputs": [],
   "source": [
    "%defaultDatasource jdbc:h2:mem:db"
   ]
  },
  {
   "cell_type": "markdown",
   "metadata": {},
   "source": [
    "## Ingestão dos Dados do FooDB\n",
    "\n",
    "<a href='https://foodb.ca/'>`https://foodb.ca/`</a>\n",
    "\n",
    "O FooDB apresenta informações sobre a composição química e nutricional dos alimentos. Para a nossa análise, vamos considerar apenas alguns nutrientes."
   ]
  },
  {
   "cell_type": "code",
   "execution_count": null,
   "metadata": {
    "vscode": {
     "languageId": "sql"
    }
   },
   "outputs": [],
   "source": [
    "DROP VIEW IF EXISTS RecipeProfile;\n",
    "DROP VIEW IF EXISTS RecipeIngredientFat;\n",
    "DROP VIEW IF EXISTS RecipeIngredientProtein;\n",
    "DROP VIEW IF EXISTS RecipeIngredientCarbo;\n",
    "DROP VIEW IF EXISTS RecipeIngredients;\n",
    "DROP VIEW IF EXISTS FoodNutrient;\n",
    "DROP TABLE IF EXISTS Nutrient;\n",
    "DROP TABLE IF EXISTS Food;\n",
    "DROP TABLE IF EXISTS Nutrient_On_Food;\n",
    "\n",
    "CREATE TABLE Nutrient (\n",
    "    id INT,\n",
    "    public_id VARCHAR(15),\n",
    "    Nutrient_Name VARCHAR(50),\n",
    "    PRIMARY KEY(id)\n",
    ")AS SELECT id, public_id, LOWER(name) as Nutrient_Name\n",
    "    FROM CSVREAD('../data/interim/ProcessedNutrient.csv');\n",
    "\n",
    "CREATE TABLE Food (\n",
    "    Id INT,\n",
    "    Food_Name VARCHAR(50),\n",
    "    Description VARCHAR(4000),\n",
    "    Food_Group VARCHAR(50),\n",
    "    Food_Subgroup VARCHAR(50),\n",
    "    Public_Id VARCHAR(50),\n",
    "    PRIMARY KEY(Id)\n",
    ");\n",
    "\n",
    "-- DROP INDEX IF EXISTS idx_tb_food_foodname;\n",
    "-- CREATE INDEX idx_tb_food_foodname ON Food(Food_Name);\n",
    "\n",
    "INSERT INTO Food (Id, Food_Name, Description, Food_Group, Food_Subgroup, Public_Id)\n",
    "    SELECT Id, LOWER(name) as Food_Name, Description, Food_Group, Food_Subgroup, Public_Id\n",
    "    FROM CSVREAD('../data/raw/foodb/Food.csv');\n",
    "    \n",
    "CREATE TABLE Nutrient_On_Food (\n",
    "    Nutrient_Id INT,\n",
    "    Food_Id INT,\n",
    "    Orig_Content FLOAT,\n",
    "    Unit VARCHAR(10),\n",
    "    Quantity_Ref FLOAT,\n",
    "    PRIMARY KEY(Nutrient_Id, Food_Id),\n",
    "    FOREIGN KEY(Nutrient_Id)\n",
    "        REFERENCES Nutrient(id)\n",
    "            ON DELETE NO ACTION\n",
    "            ON UPDATE NO ACTION,\n",
    "    FOREIGN KEY(Food_Id)\n",
    "        REFERENCES Food(Id)\n",
    "            ON DELETE NO ACTION\n",
    "            ON UPDATE NO ACTION\n",
    ");\n",
    "\n",
    "-- DROP INDEX IF EXISTS idx_tb_nutrient_on_food_food_id;\n",
    "-- CREATE INDEX idx_tb_nutrient_on_food_food_id ON Nutrient_On_Food(Food_Id);\n",
    "\n",
    "INSERT INTO Nutrient_On_Food (Nutrient_Id, Food_Id, Orig_Content, Unit, Quantity_Ref)\n",
    "    SELECT C.Source_Id AS Nutrient_Id, C.Food_Id, C.Orig_Content, C.Unit, C.Quantity_Ref\n",
    "    FROM CSVREAD('../data/interim/ProcessedContent.csv') C, Food F, Nutrient N\n",
    "    WHERE Food_Id=F.Id AND N.id = C.Source_Id;"
   ]
  },
  {
   "cell_type": "markdown",
   "metadata": {},
   "source": [
    "## Ingestão dos Dados do CulinaryDB\n",
    "\n",
    "<a href='https://cosylab.iiitd.edu.in/culinarydb/'>`https://cosylab.iiitd.edu.in/culinarydb`</a>\n",
    "    "
   ]
  },
  {
   "cell_type": "code",
   "execution_count": null,
   "metadata": {},
   "outputs": [],
   "source": [
    "DROP VIEW IF EXISTS RecipeProfile;\n",
    "DROP VIEW IF EXISTS RecipeIngredientFat;\n",
    "DROP VIEW IF EXISTS RecipeIngredientProtein;\n",
    "DROP VIEW IF EXISTS RecipeIngredientCarbo;\n",
    "DROP VIEW IF EXISTS RecipeIngredients;\n",
    "DROP VIEW IF EXISTS FoodNutrient;\n",
    "DROP TABLE IF EXISTS Recipes;\n",
    "DROP TABLE IF EXISTS Ingredients;\n",
    "DROP TABLE IF EXISTS Units;\n",
    "\n",
    "CREATE TABLE Recipes (\n",
    "    Recipe_ID INT,\n",
    "    Title VARCHAR(250),\n",
    "    Region VARCHAR(50),\n",
    "    PRIMARY KEY(Recipe_ID)\n",
    ") AS SELECT Recipe_ID, Title, Region\n",
    "    FROM CSVREAD('../data/interim/Recipes.csv');\n",
    "\n",
    "CREATE TABLE Units (\n",
    "    Unit_Name VARCHAR(15),\n",
    "    Grams FLOAT,\n",
    "    PRIMARY KEY(Unit_Name)\n",
    ") AS SELECT Unit_Name, Grams\n",
    "    FROM CSVREAD('../data/interim/Units-Conversion.csv');\n",
    "\n",
    "CREATE TABLE Ingredients (\n",
    "    Recipe_ID INT,\n",
    "    Food_ID INT,\n",
    "    Food_Name VARCHAR(50),\n",
    "    Quantity FLOAT,\n",
    "    Unit VARCHAR(15),\n",
    "    PRIMARY KEY(Recipe_ID, Food_ID),\n",
    "    FOREIGN KEY(Recipe_ID)\n",
    "        REFERENCES Recipes(Recipe_ID)\n",
    "            ON DELETE NO ACTION\n",
    "            ON UPDATE NO ACTION,\n",
    "    FOREIGN KEY(Food_ID)\n",
    "        REFERENCES Food(Id)\n",
    "            ON DELETE NO ACTION\n",
    "            ON UPDATE NO ACTION,\n",
    "    FOREIGN KEY(Unit)\n",
    "        REFERENCES Units(Unit_name)\n",
    "            ON DELETE NO ACTION\n",
    "            ON UPDATE NO ACTION\n",
    ");\n",
    "\n",
    "-- DROP INDEX IF EXISTS idx_tb_ingredients_food_name;\n",
    "-- CREATE INDEX idx_tb_ingredients_food_name ON Ingredients(Food_Name);\n",
    "\n",
    "INSERT INTO Ingredients (Recipe_Id, Food_Id, Food_Name, Quantity, Unit)\n",
    "    SELECT Recipe_ID, Food_ID, LOWER(Aliased_Ingredient_Name) as Food_Name, Quantity, Unit\n",
    "    FROM CSVREAD('../data/interim/IngredientOnFood2.csv');"
   ]
  },
  {
   "cell_type": "markdown",
   "metadata": {},
   "source": [
    "# Pergunta e Análise 2:\n",
    "\n",
    "- Quais os alimentos e receitas que mais contribuem para a ingestão de açúcares, gorduras e sódio para cada país/região?\n",
    "\n"
   ]
  },
  {
   "cell_type": "code",
   "execution_count": null,
   "metadata": {
    "scrolled": true
   },
   "outputs": [],
   "source": [
    "DROP VIEW IF EXISTS RecipeIngredients;\n",
    "CREATE VIEW RecipeIngredients AS\n",
    "SELECT R.Recipe_ID, I.Food_Id, quantity * U.Grams as qnt_grams\n",
    "    FROM Recipes R, Ingredients I, Units U\n",
    "    WHERE R.Recipe_ID = I.Recipe_ID AND U.Unit_Name = I.Unit;"
   ]
  },
  {
   "cell_type": "code",
   "execution_count": null,
   "metadata": {},
   "outputs": [],
   "source": [
    "DROP VIEW IF EXISTS FoodNutrient;\n",
    "CREATE VIEW FoodNutrient AS\n",
    "SELECT DISTINCT F.Food_Name, N.Nutrient_Name, NF.Food_Id, N.Id AS Nutrient_Id, Unit, Quantity_Ref, Orig_Content\n",
    "    FROM Nutrient_On_Food NF, Nutrient N, Food F\n",
    "    WHERE NF.Food_Id = F.id AND N.Id = NF.Nutrient_Id;"
   ]
  },
  {
   "cell_type": "code",
   "execution_count": null,
   "metadata": {},
   "outputs": [],
   "source": [
    "DROP VIEW IF EXISTS RecipeIngredientFat;\n",
    "DROP VIEW IF EXISTS RecipeIngredientProtein;\n",
    "DROP VIEW IF EXISTS RecipeIngredientCarbo;\n",
    "\n",
    "\n",
    "CREATE VIEW RecipeIngredientFat AS\n",
    "SELECT RI.Recipe_Id, RI.Food_Id, FN.nutrient_id, RI.qnt_grams as ingredient_weight, RI.qnt_grams * (FN.orig_content/1000)/100 as fat\n",
    "    FROM RecipeIngredients RI, FoodNutrient FN\n",
    "    WHERE RI.Food_Id = FN.Food_Id AND FN.nutrient_id = 1;\n",
    "    \n",
    "CREATE VIEW RecipeIngredientProtein AS\n",
    "SELECT RI.Recipe_Id, RI.Food_Id, FN.nutrient_id, RI.qnt_grams as ingredient_weight, RI.qnt_grams * (FN.orig_content/1000)/100 as protein\n",
    "    FROM RecipeIngredients RI, FoodNutrient FN\n",
    "    WHERE RI.Food_Id = FN.Food_Id AND FN.nutrient_id = 2;\n",
    "\n",
    "CREATE VIEW RecipeIngredientCarbo AS\n",
    "SELECT RI.Recipe_Id, RI.Food_Id, FN.nutrient_id, RI.qnt_grams as ingredient_weight, RI.qnt_grams * (FN.orig_content/1000)/100 as carbo\n",
    "    FROM RecipeIngredients RI, FoodNutrient FN\n",
    "    WHERE RI.Food_Id = FN.Food_Id AND FN.nutrient_id = 3;"
   ]
  },
  {
   "cell_type": "code",
   "execution_count": null,
   "metadata": {},
   "outputs": [],
   "source": [
    "DROP VIEW IF EXISTS RecipeProfile;\n",
    "\n",
    "CREATE VIEW RecipeProfile AS\n",
    "SELECT RI.Recipe_ID, SUM(RI.qnt_grams) as weight, RIF.fat, RIP.protein, RIC.carbo\n",
    "    FROM RecipeIngredients RI, RecipeIngredientFat RIF, RecipeIngredientProtein RIP, RecipeIngredientCarbo RIC\n",
    "    WHERE RI.Recipe_ID = RIP.Recipe_Id AND RI.Recipe_Id = RIC.Recipe_Id AND RI.Recipe_Id = RIF.Recipe_Id;\n",
    "--     GROUP BY RI.Recipe_ID, RIF.fat, RIP.protein, RIC.carbo;"
   ]
  },
  {
   "cell_type": "code",
   "execution_count": null,
   "metadata": {},
   "outputs": [],
   "source": [
    "SELECT * FROM Nutrient;"
   ]
  },
  {
   "cell_type": "code",
   "execution_count": null,
   "metadata": {},
   "outputs": [],
   "source": [
    "SELECT RI.Recipe_ID, RIF.fat, RIP.protein, RIC.carbo\n",
    "    FROM RecipeIngredients RI, RecipeIngredientFat RIF, RecipeIngredientProtein RIP, RecipeIngredientCarbo RIC\n",
    "    WHERE RI.Recipe_ID = RIP.Recipe_Id AND RI.Recipe_Id = RIC.Recipe_Id AND RI.Recipe_Id = RIF.Recipe_Id;\n",
    "--     GROUP BY RI.Recipe_ID, RIF.fat, RIP.protein, RIC.carbo;"
   ]
  },
  {
   "cell_type": "code",
   "execution_count": null,
   "metadata": {},
   "outputs": [],
   "source": [
    "SELECT * FROM RecipeIngredientFat;"
   ]
  }
 ],
 "metadata": {
  "kernelspec": {
   "display_name": "SQL",
   "language": "SQL",
   "name": "sql"
  },
  "language_info": {
   "codemirror_mode": "sql",
   "file_extension": ".sql",
   "mimetype": "",
   "name": "SQL",
   "nbconverter_exporter": "",
   "version": ""
  },
  "toc": {
   "base_numbering": 1,
   "nav_menu": {},
   "number_sections": false,
   "sideBar": false,
   "skip_h1_title": false,
   "title_cell": "Table of Contents",
   "title_sidebar": "Contents",
   "toc_cell": false,
   "toc_position": {},
   "toc_section_display": false,
   "toc_window_display": false
  }
 },
 "nbformat": 4,
 "nbformat_minor": 2
}
