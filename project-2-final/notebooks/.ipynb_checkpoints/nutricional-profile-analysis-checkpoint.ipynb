{
 "cells": [
  {
   "cell_type": "markdown",
   "metadata": {},
   "source": [
    "# Análise do Perfil Nutricional Por Região"
   ]
  },
  {
   "cell_type": "code",
   "execution_count": 5,
   "metadata": {
    "vscode": {
     "languageId": "sql"
    }
   },
   "outputs": [],
   "source": [
    "%defaultDatasource jdbc:h2:mem:db"
   ]
  },
  {
   "cell_type": "markdown",
   "metadata": {},
   "source": [
    "## Ingestão dos Dados do FooDB\n",
    "\n",
    "<a href='https://foodb.ca/'>`https://foodb.ca/`</a>\n",
    "\n",
    "O FooDB apresenta informações sobre a composição química e nutricional dos alimentos. Para a nossa análise, vamos considerar apenas alguns nutrientes."
   ]
  },
  {
   "cell_type": "code",
   "execution_count": 27,
   "metadata": {
    "vscode": {
     "languageId": "sql"
    }
   },
   "outputs": [],
   "source": [
    "DROP TABLE IF EXISTS Nutrient;\n",
    "DROP TABLE IF EXISTS Food;\n",
    "DROP TABLE IF EXISTS Nutrient_On_Food;\n",
    "\n",
    "CREATE TABLE Nutrient (\n",
    "    id INT,\n",
    "    public_id VARCHAR(15),\n",
    "    Nutrient_Name VARCHAR(50),\n",
    "    PRIMARY KEY(id)\n",
    ") AS SELECT id, public_id, name as Nutrient_Name\n",
    "    FROM CSVREAD('../data/raw/foodb/Nutrient.csv');\n",
    "\n",
    "CREATE TABLE Food (\n",
    "    Id INT,\n",
    "    Food_Name VARCHAR(50),\n",
    "    Description TEXT,\n",
    "    Food_Group VARCHAR(50),\n",
    "    Food_Subgroup VARCHAR(50),\n",
    "    Public_Id VARCHAR(50),\n",
    "    PRIMARY KEY(Id)\n",
    ") AS SELECT Id, name as Food_Name, Description, Food_Group, Food_Subgroup, Public_Id\n",
    "    FROM CSVREAD('../data/raw/foodb/Food.csv');\n",
    "    \n",
    "CREATE TABLE Nutrient_On_Food (\n",
    "    Id INT,\n",
    "    Nutrient_Id INT,\n",
    "    Food_Id INT,\n",
    "    Orig_Content FLOAT,\n",
    "    Unit VARCHAR(10),\n",
    "    Quantity_Ref FLOAT,\n",
    "    PRIMARY KEY(Id),\n",
    "    FOREIGN KEY(Nutrient_Id)\n",
    "        REFERENCES Nutrient(id)\n",
    "            ON DELETE NO ACTION\n",
    "            ON UPDATE NO ACTION,\n",
    "    FOREIGN KEY(Food_Id)\n",
    "        REFERENCES Food(Id)\n",
    "            ON DELETE NO ACTION\n",
    "            ON UPDATE NO ACTION\n",
    ") AS SELECT C.Id, C.Source_Id AS Nutrient_Id, C.Food_Id, C.Orig_Content, C.Unit, C.Quantity_Ref\n",
    "    FROM CSVREAD('../data/interim/ProcessedContent.csv') C, Food F\n",
    "    WHERE Food_Id=F.Id;"
   ]
  },
  {
   "cell_type": "code",
   "execution_count": null,
   "metadata": {},
   "outputs": [],
   "source": []
  },
  {
   "cell_type": "code",
   "execution_count": 18,
   "metadata": {
    "vscode": {
     "languageId": "sql"
    }
   },
   "outputs": [
    {
     "ename": "org.h2.jdbc.JdbcSQLException",
     "evalue": " Syntax error in SQL statement \"CREATE TABLE INGREDIENT_ON_FOOD (",
     "output_type": "error",
     "traceback": [
      "\u001b[1;31morg.h2.jdbc.JdbcSQLException: Syntax error in SQL statement \"CREATE TABLE INGREDIENT_ON_FOOD (\u001b[0;0m",
      "\u001b[1;31mRECIPE_ID INT,\u001b[0;0m",
      "\u001b[1;31mFOOD_ID INT,\u001b[0;0m",
      "\u001b[1;31mALIASED_INGREDIENT_NAME VARCHAR(50),\u001b[0;0m",
      "\u001b[1;31mQUANTITY FLOAT,\u001b[0;0m",
      "\u001b[1;31mUNIT VARCHAR(15)\u001b[0;0m",
      "\u001b[1;31mPRIMARY KEY([*]RECIPE_ID, FOOD_ID),\u001b[0;0m",
      "\u001b[1;31mFOREIGN KEY(RECIPE_ID)\u001b[0;0m",
      "\u001b[1;31mREFERENCES RECIPES(RECIPE_ID)\u001b[0;0m",
      "\u001b[1;31mON DELETE NO ACTION\u001b[0;0m",
      "\u001b[1;31mON UPDATE NO ACTION,\u001b[0;0m",
      "\u001b[1;31mFOREIGN KEY(FOOD_ID)\u001b[0;0m",
      "\u001b[1;31mREFERENCES FOOD(ID)\u001b[0;0m",
      "\u001b[1;31mON DELETE NO ACTION\u001b[0;0m",
      "\u001b[1;31mON UPDATE NO ACTION,\u001b[0;0m",
      "\u001b[1;31mFOREIGN KEY(UNIT)\u001b[0;0m",
      "\u001b[1;31mREFERENCES UNITS(UNIT_NAME)\u001b[0;0m",
      "\u001b[1;31mON DELETE NO ACTION\u001b[0;0m",
      "\u001b[1;31mON UPDATE NO ACTION\u001b[0;0m",
      "\u001b[1;31m) AS SELECT RECIPE_ID, FOOD_ID, FOOD_NAME, QUANTITY, UNIT\u001b[0;0m",
      "\u001b[1;31mFROM CSVREAD('../data/interim/IngredientOnFood.csv') \"; expected \"HASH, AUTO_INCREMENT, NOT, NULL, CHECK, REFERENCES, ,, )\"; SQL statement:\u001b[0;0m",
      "\u001b[1;31mCREATE TABLE Ingredient_On_Food (\u001b[0;0m",
      "\u001b[1;31mRecipe_ID INT,\u001b[0;0m",
      "\u001b[1;31mFood_ID INT,\u001b[0;0m",
      "\u001b[1;31mAliased_Ingredient_Name VARCHAR(50),\u001b[0;0m",
      "\u001b[1;31mQuantity FLOAT,\u001b[0;0m",
      "\u001b[1;31mUnit VARCHAR(15)\u001b[0;0m",
      "\u001b[1;31mPRIMARY KEY(Recipe_ID, Food_ID),\u001b[0;0m",
      "\u001b[1;31mFOREIGN KEY(Recipe_ID)\u001b[0;0m",
      "\u001b[1;31mREFERENCES Recipes(Recipe_ID)\u001b[0;0m",
      "\u001b[1;31mON DELETE NO ACTION\u001b[0;0m",
      "\u001b[1;31mON UPDATE NO ACTION,\u001b[0;0m",
      "\u001b[1;31mFOREIGN KEY(Food_ID)\u001b[0;0m",
      "\u001b[1;31mREFERENCES Food(Id)\u001b[0;0m",
      "\u001b[1;31mON DELETE NO ACTION\u001b[0;0m",
      "\u001b[1;31mON UPDATE NO ACTION,\u001b[0;0m",
      "\u001b[1;31mFOREIGN KEY(Unit)\u001b[0;0m",
      "\u001b[1;31mREFERENCES Units(Unit_name)\u001b[0;0m",
      "\u001b[1;31mON DELETE NO ACTION\u001b[0;0m",
      "\u001b[1;31mON UPDATE NO ACTION\u001b[0;0m",
      "\u001b[1;31m) AS SELECT Recipe_ID, Food_ID, Food_name, Quantity, Unit\u001b[0;0m",
      "\u001b[1;31mFROM CSVREAD('../data/interim/IngredientOnFood.csv') [42001-197]\u001b[0;0m"
     ]
    }
   ],
   "source": [
    "DROP TABLE IF EXISTS Recipes;\n",
    "DROP TABLE IF EXISTS Ingredient_On_Food;\n",
    "DROP TABLE IF EXISTS Units;\n",
    "\n",
    "CREATE TABLE Recipes (\n",
    "    Recipe_ID INT,\n",
    "    Title VARCHAR(250),\n",
    "    Region VARCHAR(50),\n",
    "    PRIMARY KEY(Recipe_ID)\n",
    ") AS SELECT Recipe_ID, Title, Region\n",
    "    FROM CSVREAD('../data/interim/Recipes.csv');\n",
    "\n",
    "CREATE TABLE Units (\n",
    "    Unit_Name VARCHAR(15),\n",
    "    Grams FLOAT,\n",
    "    PRIMARY KEY(Unit_Name)\n",
    ") AS SELECT Unit_Name, Grams\n",
    "    FROM CSVREAD('../data/interim/Units-Conversion.csv');\n",
    "\n",
    "CREATE TABLE Ingredient_On_Food (\n",
    "    Recipe_ID INT,\n",
    "    Food_ID INT,\n",
    "    Aliased_Ingredient_Name VARCHAR(50),\n",
    "    Quantity FLOAT,\n",
    "    Unit VARCHAR(15)\n",
    "    PRIMARY KEY(Recipe_ID, Food_ID),\n",
    "    FOREIGN KEY(Recipe_ID)\n",
    "        REFERENCES Recipes(Recipe_ID)\n",
    "            ON DELETE NO ACTION\n",
    "            ON UPDATE NO ACTION,\n",
    "    FOREIGN KEY(Food_ID)\n",
    "        REFERENCES Food(Id)\n",
    "            ON DELETE NO ACTION\n",
    "            ON UPDATE NO ACTION,\n",
    "    FOREIGN KEY(Unit)\n",
    "        REFERENCES Units(Unit_name)\n",
    "            ON DELETE NO ACTION\n",
    "            ON UPDATE NO ACTION\n",
    ") AS SELECT Recipe_ID, Food_ID, Food_name, Quantity, Unit\n",
    "    FROM CSVREAD('../data/interim/IngredientOnFood.csv');\n",
    "    "
   ]
  }
 ],
 "metadata": {
  "kernelspec": {
   "display_name": "SQL",
   "language": "SQL",
   "name": "sql"
  },
  "language_info": {
   "codemirror_mode": "sql",
   "file_extension": ".sql",
   "mimetype": "",
   "name": "SQL",
   "nbconverter_exporter": "",
   "version": ""
  },
  "toc": {
   "base_numbering": 1,
   "nav_menu": {},
   "number_sections": false,
   "sideBar": false,
   "skip_h1_title": false,
   "title_cell": "Table of Contents",
   "title_sidebar": "Contents",
   "toc_cell": false,
   "toc_position": {},
   "toc_section_display": false,
   "toc_window_display": false
  }
 },
 "nbformat": 4,
 "nbformat_minor": 2
}
