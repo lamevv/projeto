{
 "cells": [
  {
   "cell_type": "markdown",
   "metadata": {},
   "source": [
    "# Análise do Perfil Nutricional Por Região"
   ]
  },
  {
   "cell_type": "code",
   "execution_count": null,
   "metadata": {
    "vscode": {
     "languageId": "sql"
    }
   },
   "outputs": [],
   "source": [
    "%defaultDatasource jdbc:h2:mem:db"
   ]
  },
  {
   "cell_type": "markdown",
   "metadata": {},
   "source": [
    "## Ingestão dos Dados do FooDB\n",
    "\n",
    "<a href='https://foodb.ca/'>`https://foodb.ca/`</a>\n",
    "\n",
    "O FooDB apresenta informações sobre a composição química e nutricional dos alimentos. Para a nossa análise, vamos considerar apenas alguns nutrientes."
   ]
  },
  {
   "cell_type": "code",
   "execution_count": null,
   "metadata": {
    "vscode": {
     "languageId": "sql"
    }
   },
   "outputs": [],
   "source": [
    "DROP VIEW IF EXISTS MostFrequentIngredients;\n",
    "DROP VIEW IF EXISTS RecipeProfileComplete;\n",
    "DROP VIEW IF EXISTS RecipeProfile;\n",
    "DROP VIEW IF EXISTS RecipeIngredientFat;\n",
    "DROP VIEW IF EXISTS RecipeIngredientProtein;\n",
    "DROP VIEW IF EXISTS RecipeIngredientCarbo;\n",
    "DROP VIEW IF EXISTS RecipeIngredients;\n",
    "DROP VIEW IF EXISTS FoodNutrient;\n",
    "DROP TABLE IF EXISTS Nutrient;\n",
    "DROP TABLE IF EXISTS Food;\n",
    "DROP TABLE IF EXISTS Nutrient_On_Food;\n",
    "\n",
    "CREATE TABLE Nutrient (\n",
    "    id INT,\n",
    "    public_id VARCHAR(15),\n",
    "    Nutrient_Name VARCHAR(50),\n",
    "    PRIMARY KEY(id)\n",
    ")AS SELECT id, public_id, LOWER(name) as Nutrient_Name\n",
    "    FROM CSVREAD('../data/interim/ProcessedNutrient.csv');\n",
    "\n",
    "CREATE TABLE Food (\n",
    "    Id INT,\n",
    "    Food_Name VARCHAR(50),\n",
    "    Description VARCHAR(4000),\n",
    "    Food_Group VARCHAR(50),\n",
    "    Food_Subgroup VARCHAR(50),\n",
    "    Public_Id VARCHAR(50),\n",
    "    PRIMARY KEY(Id)\n",
    ");\n",
    "\n",
    "INSERT INTO Food (Id, Food_Name, Description, Food_Group, Food_Subgroup, Public_Id)\n",
    "    SELECT Id, LOWER(name) as Food_Name, Description, Food_Group, Food_Subgroup, Public_Id\n",
    "    FROM CSVREAD('../data/raw/foodb/Food.csv');\n",
    "    \n",
    "CREATE TABLE Nutrient_On_Food (\n",
    "    Nutrient_Id INT,\n",
    "    Food_Id INT,\n",
    "    Orig_Content FLOAT,\n",
    "    Unit VARCHAR(10),\n",
    "    Quantity_Ref FLOAT,\n",
    "    PRIMARY KEY(Nutrient_Id, Food_Id),\n",
    "    FOREIGN KEY(Nutrient_Id)\n",
    "        REFERENCES Nutrient(id)\n",
    "            ON DELETE NO ACTION\n",
    "            ON UPDATE NO ACTION,\n",
    "    FOREIGN KEY(Food_Id)\n",
    "        REFERENCES Food(Id)\n",
    "            ON DELETE NO ACTION\n",
    "            ON UPDATE NO ACTION\n",
    ");\n",
    "\n",
    "INSERT INTO Nutrient_On_Food (Nutrient_Id, Food_Id, Orig_Content, Unit, Quantity_Ref)\n",
    "    SELECT C.Source_Id AS Nutrient_Id, C.Food_Id, C.Orig_Content, C.Unit, C.Quantity_Ref\n",
    "    FROM CSVREAD('../data/interim/ProcessedContent.csv') C, Food F, Nutrient N\n",
    "    WHERE Food_Id=F.Id AND N.id = C.Source_Id;"
   ]
  },
  {
   "cell_type": "markdown",
   "metadata": {},
   "source": [
    "## Ingestão dos Dados do CulinaryDB\n",
    "\n",
    "<a href='https://cosylab.iiitd.edu.in/culinarydb/'>`https://cosylab.iiitd.edu.in/culinarydb`</a>\n",
    "    "
   ]
  },
  {
   "cell_type": "code",
   "execution_count": null,
   "metadata": {
    "vscode": {
     "languageId": "sql"
    }
   },
   "outputs": [],
   "source": [
    "DROP VIEW IF EXISTS MostFrequentIngredients;\n",
    "DROP VIEW IF EXISTS RecipeProfileComplete;\n",
    "DROP VIEW IF EXISTS RecipeProfile;\n",
    "DROP VIEW IF EXISTS RecipeIngredientFat;\n",
    "DROP VIEW IF EXISTS RecipeIngredientProtein;\n",
    "DROP VIEW IF EXISTS RecipeIngredientCarbo;\n",
    "DROP VIEW IF EXISTS RecipeIngredients;\n",
    "DROP VIEW IF EXISTS FoodNutrient;\n",
    "DROP TABLE IF EXISTS Recipes;\n",
    "DROP TABLE IF EXISTS Ingredients;\n",
    "DROP TABLE IF EXISTS Units;\n",
    "\n",
    "CREATE TABLE Recipes (\n",
    "    Recipe_ID INT,\n",
    "    Title VARCHAR(250),\n",
    "    Region VARCHAR(50),\n",
    "    PRIMARY KEY(Recipe_ID)\n",
    ") AS SELECT Recipe_ID, Title, Region\n",
    "    FROM CSVREAD('../data/interim/Recipes.csv');\n",
    "\n",
    "CREATE TABLE Units (\n",
    "    Unit_Name VARCHAR(15),\n",
    "    Grams FLOAT,\n",
    "    PRIMARY KEY(Unit_Name)\n",
    ") AS SELECT Unit_Name, Grams\n",
    "    FROM CSVREAD('../data/interim/Units-Conversion.csv');\n",
    "\n",
    "CREATE TABLE Ingredients (\n",
    "    Recipe_ID INT,\n",
    "    Food_ID INT,\n",
    "    Food_Name VARCHAR(50),\n",
    "    Quantity FLOAT,\n",
    "    Unit VARCHAR(15),\n",
    "    PRIMARY KEY(Recipe_ID, Food_ID),\n",
    "    FOREIGN KEY(Recipe_ID)\n",
    "        REFERENCES Recipes(Recipe_ID)\n",
    "            ON DELETE NO ACTION\n",
    "            ON UPDATE NO ACTION,\n",
    "    FOREIGN KEY(Food_ID)\n",
    "        REFERENCES Food(Id)\n",
    "            ON DELETE NO ACTION\n",
    "            ON UPDATE NO ACTION,\n",
    "    FOREIGN KEY(Unit)\n",
    "        REFERENCES Units(Unit_name)\n",
    "            ON DELETE NO ACTION\n",
    "            ON UPDATE NO ACTION\n",
    ");\n",
    "\n",
    "INSERT INTO Ingredients (Recipe_Id, Food_Id, Food_Name, Quantity, Unit)\n",
    "    SELECT Recipe_ID, Food_ID, LOWER(Aliased_Ingredient_Name) as Food_Name, Quantity, Unit\n",
    "    FROM CSVREAD('../data/interim/IngredientOnFood2.csv');"
   ]
  },
  {
   "cell_type": "markdown",
   "metadata": {},
   "source": [
    "## Perfil Nutricional das Receitas\n",
    "\n",
    "- Quais os alimentos e receitas que mais contribuem para a ingestão de açúcares, gorduras ou proteínas para cada país/região? \n",
    "    - Podemos responder essa pergunta traçando o perfil nutricional de cada receita, com base em seus ingredientes.\n",
    "\n"
   ]
  },
  {
   "cell_type": "code",
   "execution_count": null,
   "metadata": {
    "vscode": {
     "languageId": "sql"
    }
   },
   "outputs": [],
   "source": [
    "DROP TABLE IF EXISTS Recipe_Profile;\n",
    "\n",
    "CREATE TABLE Recipe_Profile (\n",
    "    Recipe_Id INT NOT NULL,\n",
    "    weight FLOAT DEFAULT 0,\n",
    "    fat FLOAT DEFAULT 0,\n",
    "    carbo FLOAT DEFAULT 0,\n",
    "    protein FLOAT DEFAULT 0,\n",
    "    PRIMARY KEY(Recipe_Id),\n",
    "    FOREIGN KEY(Recipe_Id)\n",
    "        REFERENCES Recipes(Recipe_Id)\n",
    "            ON UPDATE NO ACTION\n",
    "            ON DELETE NO ACTION\n",
    ");\n",
    "\n",
    "INSERT INTO Recipe_Profile (Recipe_Id)\n",
    "    SELECT Recipe_Id FROM Recipes\n",
    "        WHERE Recipe_Id IN (SELECT DISTINCT I.Recipe_Id FROM Ingredients I);"
   ]
  },
  {
   "cell_type": "code",
   "execution_count": null,
   "metadata": {
    "scrolled": true,
    "vscode": {
     "languageId": "sql"
    }
   },
   "outputs": [],
   "source": [
    "DROP VIEW IF EXISTS RecipeIngredients;\n",
    "CREATE VIEW RecipeIngredients AS\n",
    "SELECT R.Recipe_ID, I.Food_Id, quantity * U.Grams as qnt_grams\n",
    "    FROM Recipes R, Ingredients I, Units U\n",
    "    WHERE R.Recipe_ID = I.Recipe_ID AND U.Unit_Name = I.Unit;"
   ]
  },
  {
   "cell_type": "code",
   "execution_count": null,
   "metadata": {
    "vscode": {
     "languageId": "sql"
    }
   },
   "outputs": [],
   "source": [
    "DROP VIEW IF EXISTS FoodNutrient;\n",
    "CREATE VIEW FoodNutrient AS\n",
    "SELECT DISTINCT F.Food_Name, N.Nutrient_Name, NF.Food_Id, N.Id AS Nutrient_Id, Unit, Quantity_Ref, Orig_Content\n",
    "    FROM Nutrient_On_Food NF, Nutrient N, Food F\n",
    "    WHERE NF.Food_Id = F.id AND N.Id = NF.Nutrient_Id;"
   ]
  },
  {
   "cell_type": "markdown",
   "metadata": {},
   "source": [
    "Views para o cálculo dos macronutrientes das receitas"
   ]
  },
  {
   "cell_type": "code",
   "execution_count": null,
   "metadata": {
    "vscode": {
     "languageId": "sql"
    }
   },
   "outputs": [],
   "source": [
    "DROP VIEW IF EXISTS RecipeIngredientFat;\n",
    "DROP VIEW IF EXISTS RecipeIngredientProtein;\n",
    "DROP VIEW IF EXISTS RecipeIngredientCarbo;\n",
    "\n",
    "\n",
    "CREATE VIEW RecipeIngredientFat AS\n",
    "SELECT RI.Recipe_Id, RI.Food_Id, FN.nutrient_id, RI.qnt_grams as ingredient_weight, RI.qnt_grams * (FN.orig_content/1000)/100 as fat\n",
    "    FROM RecipeIngredients RI, FoodNutrient FN\n",
    "    WHERE FN.nutrient_id = 1 AND RI.Food_Id = FN.Food_Id;\n",
    "    \n",
    "CREATE VIEW RecipeIngredientProtein AS\n",
    "SELECT RI.Recipe_Id, RI.Food_Id, FN.nutrient_id, RI.qnt_grams as ingredient_weight, RI.qnt_grams * (FN.orig_content/1000)/100 as protein\n",
    "    FROM RecipeIngredients RI, FoodNutrient FN\n",
    "    WHERE FN.nutrient_id = 2 AND RI.Food_Id = FN.Food_Id;\n",
    "\n",
    "CREATE VIEW RecipeIngredientCarbo AS\n",
    "SELECT RI.Recipe_Id, RI.Food_Id, FN.nutrient_id, RI.qnt_grams as ingredient_weight, RI.qnt_grams * (FN.orig_content/1000)/100 as carbo\n",
    "    FROM RecipeIngredients RI, FoodNutrient FN\n",
    "    WHERE FN.nutrient_id = 3 AND RI.Food_Id = FN.Food_Id;"
   ]
  },
  {
   "cell_type": "markdown",
   "metadata": {},
   "source": [
    "Atualizando a tabela *Recipe_Profile* com as informações de gordura, proteína, carboídrato e peso"
   ]
  },
  {
   "cell_type": "code",
   "execution_count": null,
   "metadata": {
    "vscode": {
     "languageId": "sql"
    }
   },
   "outputs": [],
   "source": [
    "UPDATE Recipe_Profile RP\n",
    "    SET RP.fat = (SELECT COALESCE(SUM(RIF.fat), 0) FROM RecipeIngredientFat RIF WHERE RIF.Recipe_Id = RP.Recipe_Id),\n",
    "        RP.protein = (SELECT COALESCE(SUM(RIP.protein), 0) FROM RecipeIngredientProtein RIP WHERE RIP.Recipe_Id = RP.Recipe_Id),\n",
    "        RP.carbo = (SELECT COALESCE(SUM(RIC.carbo), 0) FROM RecipeIngredientCarbo RIC WHERE RIC.Recipe_Id = RP.Recipe_Id),\n",
    "        RP.weight = (SELECT COALESCE(SUM(RI.qnt_grams), 0) FROM RecipeIngredients RI WHERE RI.Recipe_Id = RP.Recipe_Id);"
   ]
  },
  {
   "cell_type": "code",
   "execution_count": null,
   "metadata": {
    "vscode": {
     "languageId": "sql"
    }
   },
   "outputs": [],
   "source": [
    "DROP VIEW IF EXISTS RecipeProfileComplete;\n",
    "\n",
    "CREATE VIEW RecipeProfileComplete AS\n",
    "SELECT R.Recipe_Id, R.Title, R.Region, RP.weight recipe_weight, RP.fat total_fat, RP.fat/RP.weight per_fat,\n",
    "        RP.carbo total_carbo, RP.carbo/RP.weight per_carbo, RP.protein total_protein, RP.protein/RP.weight per_protein,\n",
    "        (RP.fat / RP.weight <= 0.1\n",
    "         AND RP.carbo / RP.weight <= 0.5\n",
    "         AND RP.protein / RP.weight >= 0.1) AS equilibrado\n",
    "    FROM Recipes R, Recipe_Profile RP\n",
    "    WHERE R.Recipe_Id = RP.Recipe_Id\n",
    "    GROUP BY R.Recipe_Id\n",
    "    ORDER BY Region;\n",
    "\n",
    "CALL CSVWRITE('../data/processed/RecipeProfile.csv', 'SELECT * FROM RecipeProfileComplete');\n",
    "SELECT * FROM RecipeProfileComplete;"
   ]
  },
  {
   "cell_type": "code",
   "execution_count": null,
   "metadata": {
    "scrolled": true,
    "vscode": {
     "languageId": "sql"
    }
   },
   "outputs": [],
   "source": [
    "SELECT R.Recipe_Id, R.Region, R.Title, Recipe_Weight, Per_Fat, Total_Fat\n",
    "    FROM Recipes R JOIN RecipeProfileComplete RPC ON R.Recipe_Id = RPC.Recipe_Id\n",
    "    WHERE Per_Fat >= (SELECT AVG(Per_Fat) FROM RecipeProfileComplete);"
   ]
  },
  {
   "cell_type": "code",
   "execution_count": null,
   "metadata": {
    "vscode": {
     "languageId": "sql"
    }
   },
   "outputs": [],
   "source": [
    "SELECT R.Recipe_Id, R.Region, R.Title, Recipe_Weight, Per_Carbo, Total_Carbo\n",
    "    FROM Recipes R JOIN RecipeProfileComplete RPC ON R.Recipe_Id = RPC.Recipe_Id\n",
    "    WHERE Per_Carbo >= (SELECT AVG(Per_Carbo) FROM RecipeProfileComplete);"
   ]
  },
  {
   "cell_type": "code",
   "execution_count": null,
   "metadata": {
    "vscode": {
     "languageId": "sql"
    }
   },
   "outputs": [],
   "source": [
    "SELECT R.Recipe_Id, R.Region, R.Title, Recipe_Weight, Per_Protein, Total_Protein\n",
    "    FROM Recipes R JOIN RecipeProfileComplete RPC ON R.Recipe_Id = RPC.Recipe_Id\n",
    "    WHERE Per_Protein >= (SELECT AVG(Per_Protein) FROM RecipeProfileComplete);"
   ]
  },
  {
   "cell_type": "markdown",
   "metadata": {},
   "source": [
    "## Perfil Nutricional Regional"
   ]
  },
  {
   "cell_type": "code",
   "execution_count": null,
   "metadata": {
    "vscode": {
     "languageId": "sql"
    }
   },
   "outputs": [],
   "source": [
    "DROP TABLE IF EXISTS Region_Profile;\n",
    "\n",
    "CREATE TABLE Region_Profile (\n",
    "    Region VARCHAR(50),\n",
    "    Food_Total_Weight_Kg FLOAT DEFAULT 0,\n",
    "    Total_Fat FLOAT DEFAULT 0,\n",
    "    Total_Protein FLOAT DEFAULT 0,\n",
    "    Total_Carbo FLOAT DEFAULT 0,\n",
    "    Per_Fat FLOAT DEFAULT 0,\n",
    "    Per_Protein FLOAT DEFAULT 0,\n",
    "    Per_Carbo FLOAT DEFAULT 0,\n",
    "    PRIMARY KEY(Region)\n",
    ");\n",
    "\n",
    "INSERT INTO Region_Profile(Region) SELECT DISTINCT Region FROM Recipes;\n",
    "\n",
    "UPDATE Region_Profile RP\n",
    "SET\n",
    "    Food_Total_Weight_Kg = (SELECT COALESCE(SUM(RPC.recipe_weight/1000), 0) FROM RecipeProfileComplete RPC WHERE RPC.Region = RP.Region),\n",
    "    Total_Fat = (SELECT COALESCE(SUM(RPC.total_fat/1000), 0) FROM RecipeProfileComplete RPC WHERE RPC.Region = RP.Region),\n",
    "    Total_Carbo = (SELECT COALESCE(SUM(RPC.total_carbo/1000), 0) FROM RecipeProfileComplete RPC WHERE RPC.Region = RP.Region),\n",
    "    Total_Protein = (SELECT COALESCE(SUM(RPC.total_protein/1000), 0) FROM RecipeProfileComplete RPC WHERE RPC.Region = RP.Region);\n",
    "\n",
    "UPDATE Region_Profile RP\n",
    "SET\n",
    "    Per_Protein = Total_Protein/Food_Total_Weight_Kg,\n",
    "    Per_Fat = Total_Fat/Food_Total_Weight_Kg,\n",
    "    Per_Carbo = Total_Carbo/Food_Total_Weight_Kg; \n",
    "\n",
    "SELECT * FROM Region_Profile;\n",
    "CALL CSVWRITE('../data/processed/RegionalNutricionalProfile.csv', 'SELECT * FROM Region_Profile');"
   ]
  },
  {
   "cell_type": "markdown",
   "metadata": {},
   "source": [
    "O desvio padrão dos percentuais nos mostram que o perfil nutricional de diferentes regiões convergem"
   ]
  },
  {
   "cell_type": "code",
   "execution_count": null,
   "metadata": {
    "vscode": {
     "languageId": "sql"
    }
   },
   "outputs": [],
   "source": [
    "SELECT STDDEV(Per_Fat) DSP_Fat, AVG(Per_Fat) AVG_Fat,\n",
    "        STDDEV(Per_Protein) DSP_Protein, AVG(Per_Protein) AVG_Protein,\n",
    "        STDDEV(Per_Carbo) DSP_Carbo, AVG(Per_Carbo) AVG_Carbo FROM Region_Profile;"
   ]
  },
  {
   "cell_type": "markdown",
   "metadata": {},
   "source": [
    "## Alimentos mais Utilizados nas Regiões\n",
    "\n",
    "Utilizando as funções de agregação, podemos pegar os ingredientes mais utilizados em receitas de cada região."
   ]
  },
  {
   "cell_type": "code",
   "execution_count": null,
   "metadata": {
    "vscode": {
     "languageId": "sql"
    }
   },
   "outputs": [],
   "source": [
    "DROP VIEW IF EXISTS MostFrequentIngredients;\n",
    "\n",
    "CREATE VIEW MostFrequentIngredients AS\n",
    "SELECT F.Region, I.Food_Id, I.Food_Name, COUNT(Food_Id) frequencia\n",
    "    FROM (SELECT Region, AVG(frequencia) std_frequencia, STDDEV(frequencia) desvpad_frequencia\n",
    "                FROM (SELECT Region, Food_Id, COUNT(Food_Id) frequencia\n",
    "                FROM Recipes R JOIN Ingredients I ON R.Recipe_Id = I.Recipe_Id\n",
    "                GROUP BY Region, Food_Id\n",
    "                ORDER BY Region, frequencia DESC) F\n",
    "        GROUP BY Region) F, Recipes R, Ingredients I\n",
    "        WHERE  R.Region = F.Region AND R.Recipe_Id=I.Recipe_Id\n",
    "    GROUP BY F.Region, I.Food_Id, I.Food_Name\n",
    "    HAVING COUNT(Food_Id) >= std_frequencia + desvpad_frequencia\n",
    "    ORDER BY frequencia DESC;\n",
    "\n",
    "CALL CSVWRITE('../data/processed/MostFrequentIngredients.csv', 'SELECT * FROM MostFrequentIngredients');\n",
    "SELECT * FROM MostFrequentIngredients;"
   ]
  },
  {
   "cell_type": "markdown",
   "metadata": {},
   "source": [
    "A partir disso, pegamos os ingredientes mais populares:"
   ]
  },
  {
   "cell_type": "code",
   "execution_count": null,
   "metadata": {
    "vscode": {
     "languageId": "sql"
    }
   },
   "outputs": [],
   "source": [
    "SELECT DISTINCT Food_Name FROM MostFrequentIngredients;"
   ]
  }
 ],
 "metadata": {
  "kernelspec": {
   "display_name": "SQL",
   "language": "SQL",
   "name": "sql"
  },
  "language_info": {
   "codemirror_mode": "sql",
   "file_extension": ".sql",
   "mimetype": "",
   "name": "SQL",
   "nbconverter_exporter": "",
   "version": ""
  },
  "toc": {
   "base_numbering": 1,
   "nav_menu": {},
   "number_sections": false,
   "sideBar": false,
   "skip_h1_title": false,
   "title_cell": "Table of Contents",
   "title_sidebar": "Contents",
   "toc_cell": false,
   "toc_position": {},
   "toc_section_display": false,
   "toc_window_display": false
  }
 },
 "nbformat": 4,
 "nbformat_minor": 2
}
