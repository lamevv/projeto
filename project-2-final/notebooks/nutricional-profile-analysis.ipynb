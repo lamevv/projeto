{
 "cells": [
  {
   "cell_type": "markdown",
   "metadata": {},
   "source": [
    "# Análise do Perfil Nutricional Por Região"
   ]
  },
  {
   "cell_type": "code",
   "execution_count": 1,
   "metadata": {
    "vscode": {
     "languageId": "sql"
    }
   },
   "outputs": [],
   "source": [
    "%defaultDatasource jdbc:h2:mem:db"
   ]
  },
  {
   "cell_type": "markdown",
   "metadata": {},
   "source": [
    "## Ingestão dos Dados do FooDB\n",
    "\n",
    "<a href='https://foodb.ca/'>`https://foodb.ca/`</a>\n",
    "\n",
    "O FooDB apresenta informações sobre a composição química e nutricional dos alimentos. Para a nossa análise, vamos considerar apenas alguns nutrientes."
   ]
  },
  {
   "cell_type": "code",
   "execution_count": 2,
   "metadata": {
    "vscode": {
     "languageId": "sql"
    }
   },
   "outputs": [],
   "source": [
    "DROP VIEW IF EXISTS RecipeProfileComplete;\n",
    "DROP VIEW IF EXISTS RecipeProfile;\n",
    "DROP VIEW IF EXISTS RecipeIngredientFat;\n",
    "DROP VIEW IF EXISTS RecipeIngredientProtein;\n",
    "DROP VIEW IF EXISTS RecipeIngredientCarbo;\n",
    "DROP VIEW IF EXISTS RecipeIngredients;\n",
    "DROP VIEW IF EXISTS FoodNutrient;\n",
    "DROP TABLE IF EXISTS Nutrient;\n",
    "DROP TABLE IF EXISTS Food;\n",
    "DROP TABLE IF EXISTS Nutrient_On_Food;\n",
    "\n",
    "CREATE TABLE Nutrient (\n",
    "    id INT,\n",
    "    public_id VARCHAR(15),\n",
    "    Nutrient_Name VARCHAR(50),\n",
    "    PRIMARY KEY(id)\n",
    ")AS SELECT id, public_id, LOWER(name) as Nutrient_Name\n",
    "    FROM CSVREAD('../data/interim/ProcessedNutrient.csv');\n",
    "\n",
    "CREATE TABLE Food (\n",
    "    Id INT,\n",
    "    Food_Name VARCHAR(50),\n",
    "    Description VARCHAR(4000),\n",
    "    Food_Group VARCHAR(50),\n",
    "    Food_Subgroup VARCHAR(50),\n",
    "    Public_Id VARCHAR(50),\n",
    "    PRIMARY KEY(Id)\n",
    ");\n",
    "\n",
    "-- DROP INDEX IF EXISTS idx_tb_food_foodname;\n",
    "-- CREATE INDEX idx_tb_food_foodname ON Food(Food_Name);\n",
    "\n",
    "INSERT INTO Food (Id, Food_Name, Description, Food_Group, Food_Subgroup, Public_Id)\n",
    "    SELECT Id, LOWER(name) as Food_Name, Description, Food_Group, Food_Subgroup, Public_Id\n",
    "    FROM CSVREAD('../data/raw/foodb/Food.csv');\n",
    "    \n",
    "CREATE TABLE Nutrient_On_Food (\n",
    "    Nutrient_Id INT,\n",
    "    Food_Id INT,\n",
    "    Orig_Content FLOAT,\n",
    "    Unit VARCHAR(10),\n",
    "    Quantity_Ref FLOAT,\n",
    "    PRIMARY KEY(Nutrient_Id, Food_Id),\n",
    "    FOREIGN KEY(Nutrient_Id)\n",
    "        REFERENCES Nutrient(id)\n",
    "            ON DELETE NO ACTION\n",
    "            ON UPDATE NO ACTION,\n",
    "    FOREIGN KEY(Food_Id)\n",
    "        REFERENCES Food(Id)\n",
    "            ON DELETE NO ACTION\n",
    "            ON UPDATE NO ACTION\n",
    ");\n",
    "\n",
    "-- DROP INDEX IF EXISTS idx_tb_nutrient_on_food_food_id;\n",
    "-- CREATE INDEX idx_tb_nutrient_on_food_food_id ON Nutrient_On_Food(Food_Id);\n",
    "\n",
    "INSERT INTO Nutrient_On_Food (Nutrient_Id, Food_Id, Orig_Content, Unit, Quantity_Ref)\n",
    "    SELECT C.Source_Id AS Nutrient_Id, C.Food_Id, C.Orig_Content, C.Unit, C.Quantity_Ref\n",
    "    FROM CSVREAD('../data/interim/ProcessedContent.csv') C, Food F, Nutrient N\n",
    "    WHERE Food_Id=F.Id AND N.id = C.Source_Id;"
   ]
  },
  {
   "cell_type": "markdown",
   "metadata": {},
   "source": [
    "## Ingestão dos Dados do CulinaryDB\n",
    "\n",
    "<a href='https://cosylab.iiitd.edu.in/culinarydb/'>`https://cosylab.iiitd.edu.in/culinarydb`</a>\n",
    "    "
   ]
  },
  {
   "cell_type": "code",
   "execution_count": 3,
   "metadata": {
    "vscode": {
     "languageId": "sql"
    }
   },
   "outputs": [],
   "source": [
    "DROP VIEW IF EXISTS RecipeProfileComplete;\n",
    "DROP VIEW IF EXISTS RecipeProfile;\n",
    "DROP VIEW IF EXISTS RecipeIngredientFat;\n",
    "DROP VIEW IF EXISTS RecipeIngredientProtein;\n",
    "DROP VIEW IF EXISTS RecipeIngredientCarbo;\n",
    "DROP VIEW IF EXISTS RecipeIngredients;\n",
    "DROP VIEW IF EXISTS FoodNutrient;\n",
    "DROP TABLE IF EXISTS Recipes;\n",
    "DROP TABLE IF EXISTS Ingredients;\n",
    "DROP TABLE IF EXISTS Units;\n",
    "\n",
    "CREATE TABLE Recipes (\n",
    "    Recipe_ID INT,\n",
    "    Title VARCHAR(250),\n",
    "    Region VARCHAR(50),\n",
    "    PRIMARY KEY(Recipe_ID)\n",
    ") AS SELECT Recipe_ID, Title, Region\n",
    "    FROM CSVREAD('../data/interim/Recipes.csv');\n",
    "\n",
    "CREATE TABLE Units (\n",
    "    Unit_Name VARCHAR(15),\n",
    "    Grams FLOAT,\n",
    "    PRIMARY KEY(Unit_Name)\n",
    ") AS SELECT Unit_Name, Grams\n",
    "    FROM CSVREAD('../data/interim/Units-Conversion.csv');\n",
    "\n",
    "CREATE TABLE Ingredients (\n",
    "    Recipe_ID INT,\n",
    "    Food_ID INT,\n",
    "    Food_Name VARCHAR(50),\n",
    "    Quantity FLOAT,\n",
    "    Unit VARCHAR(15),\n",
    "    PRIMARY KEY(Recipe_ID, Food_ID),\n",
    "    FOREIGN KEY(Recipe_ID)\n",
    "        REFERENCES Recipes(Recipe_ID)\n",
    "            ON DELETE NO ACTION\n",
    "            ON UPDATE NO ACTION,\n",
    "    FOREIGN KEY(Food_ID)\n",
    "        REFERENCES Food(Id)\n",
    "            ON DELETE NO ACTION\n",
    "            ON UPDATE NO ACTION,\n",
    "    FOREIGN KEY(Unit)\n",
    "        REFERENCES Units(Unit_name)\n",
    "            ON DELETE NO ACTION\n",
    "            ON UPDATE NO ACTION\n",
    ");\n",
    "\n",
    "-- DROP INDEX IF EXISTS idx_tb_ingredients_food_name;\n",
    "-- CREATE INDEX idx_tb_ingredients_food_name ON Ingredients(Food_Name);\n",
    "\n",
    "INSERT INTO Ingredients (Recipe_Id, Food_Id, Food_Name, Quantity, Unit)\n",
    "    SELECT Recipe_ID, Food_ID, LOWER(Aliased_Ingredient_Name) as Food_Name, Quantity, Unit\n",
    "    FROM CSVREAD('../data/interim/IngredientOnFood2.csv');"
   ]
  },
  {
   "cell_type": "markdown",
   "metadata": {},
   "source": [
    "# Pergunta e Análise 2:\n",
    "\n",
    "- Quais os alimentos e receitas que mais contribuem para a ingestão de açúcares e gorduras e sódio para cada país/região?\n",
    "\n"
   ]
  },
  {
   "cell_type": "code",
   "execution_count": 4,
   "metadata": {
    "vscode": {
     "languageId": "sql"
    }
   },
   "outputs": [],
   "source": [
    "DROP TABLE IF EXISTS Recipe_Profile;\n",
    "\n",
    "CREATE TABLE Recipe_Profile (\n",
    "    Recipe_Id INT NOT NULL,\n",
    "    weight FLOAT DEFAULT 0,\n",
    "    fat FLOAT DEFAULT 0,\n",
    "    carbo FLOAT DEFAULT 0,\n",
    "    protein FLOAT DEFAULT 0,\n",
    "    PRIMARY KEY(Recipe_Id),\n",
    "    FOREIGN KEY(Recipe_Id)\n",
    "        REFERENCES Recipes(Recipe_Id)\n",
    "            ON UPDATE NO ACTION\n",
    "            ON DELETE NO ACTION\n",
    ");\n",
    "\n",
    "INSERT INTO Recipe_Profile (Recipe_Id)\n",
    "    SELECT Recipe_Id FROM Recipes\n",
    "        WHERE Recipe_Id IN (SELECT DISTINCT I.Recipe_Id FROM Ingredients I);"
   ]
  },
  {
   "cell_type": "code",
   "execution_count": 5,
   "metadata": {
    "scrolled": true,
    "vscode": {
     "languageId": "sql"
    }
   },
   "outputs": [],
   "source": [
    "DROP VIEW IF EXISTS RecipeIngredients;\n",
    "CREATE VIEW RecipeIngredients AS\n",
    "SELECT R.Recipe_ID, I.Food_Id, quantity * U.Grams as qnt_grams\n",
    "    FROM Recipes R, Ingredients I, Units U\n",
    "    WHERE R.Recipe_ID = I.Recipe_ID AND U.Unit_Name = I.Unit;"
   ]
  },
  {
   "cell_type": "code",
   "execution_count": 6,
   "metadata": {
    "vscode": {
     "languageId": "sql"
    }
   },
   "outputs": [],
   "source": [
    "DROP VIEW IF EXISTS FoodNutrient;\n",
    "CREATE VIEW FoodNutrient AS\n",
    "SELECT DISTINCT F.Food_Name, N.Nutrient_Name, NF.Food_Id, N.Id AS Nutrient_Id, Unit, Quantity_Ref, Orig_Content\n",
    "    FROM Nutrient_On_Food NF, Nutrient N, Food F\n",
    "    WHERE NF.Food_Id = F.id AND N.Id = NF.Nutrient_Id;"
   ]
  },
  {
   "cell_type": "code",
   "execution_count": 7,
   "metadata": {
    "vscode": {
     "languageId": "sql"
    }
   },
   "outputs": [],
   "source": [
    "DROP VIEW IF EXISTS RecipeIngredientFat;\n",
    "DROP VIEW IF EXISTS RecipeIngredientProtein;\n",
    "DROP VIEW IF EXISTS RecipeIngredientCarbo;\n",
    "\n",
    "\n",
    "CREATE VIEW RecipeIngredientFat AS\n",
    "SELECT RI.Recipe_Id, RI.Food_Id, FN.nutrient_id, RI.qnt_grams as ingredient_weight, RI.qnt_grams * (FN.orig_content/1000)/100 as fat\n",
    "    FROM RecipeIngredients RI, FoodNutrient FN\n",
    "    WHERE FN.nutrient_id = 1 AND RI.Food_Id = FN.Food_Id;\n",
    "    \n",
    "CREATE VIEW RecipeIngredientProtein AS\n",
    "SELECT RI.Recipe_Id, RI.Food_Id, FN.nutrient_id, RI.qnt_grams as ingredient_weight, RI.qnt_grams * (FN.orig_content/1000)/100 as protein\n",
    "    FROM RecipeIngredients RI, FoodNutrient FN\n",
    "    WHERE FN.nutrient_id = 2 AND RI.Food_Id = FN.Food_Id;\n",
    "\n",
    "CREATE VIEW RecipeIngredientCarbo AS\n",
    "SELECT RI.Recipe_Id, RI.Food_Id, FN.nutrient_id, RI.qnt_grams as ingredient_weight, RI.qnt_grams * (FN.orig_content/1000)/100 as carbo\n",
    "    FROM RecipeIngredients RI, FoodNutrient FN\n",
    "    WHERE FN.nutrient_id = 3 AND RI.Food_Id = FN.Food_Id;"
   ]
  },
  {
   "cell_type": "code",
   "execution_count": 8,
   "metadata": {
    "vscode": {
     "languageId": "sql"
    }
   },
   "outputs": [],
   "source": [
    "UPDATE Recipe_Profile RP\n",
    "    SET RP.fat = (SELECT COALESCE(SUM(RIF.fat), 0) FROM RecipeIngredientFat RIF WHERE RIF.Recipe_Id = RP.Recipe_Id),\n",
    "        RP.protein = (SELECT COALESCE(SUM(RIP.protein), 0) FROM RecipeIngredientProtein RIP WHERE RIP.Recipe_Id = RP.Recipe_Id),\n",
    "        RP.carbo = (SELECT COALESCE(SUM(RIC.carbo), 0) FROM RecipeIngredientCarbo RIC WHERE RIC.Recipe_Id = RP.Recipe_Id),\n",
    "        RP.weight = (SELECT COALESCE(SUM(RI.qnt_grams), 0) FROM RecipeIngredients RI WHERE RI.Recipe_Id = RP.Recipe_Id);"
   ]
  },
  {
   "cell_type": "code",
   "execution_count": 14,
   "metadata": {
    "vscode": {
     "languageId": "sql"
    }
   },
   "outputs": [
    {
     "data": {
      "application/vnd.jupyter.widget-view+json": {
       "model_id": "2358dc04-56eb-4c8c-9eca-2050f3a4ddb5",
       "version_major": 2,
       "version_minor": 0
      },
      "method": "display_data"
     },
     "metadata": {},
     "output_type": "display_data"
    }
   ],
   "source": [
    "DROP VIEW IF EXISTS RecipeProfileComplete;\n",
    "\n",
    "CREATE VIEW RecipeProfileComplete AS\n",
    "SELECT R.Recipe_Id, R.Title, R.Region, RP.weight recipe_weight, RP.fat total_fat, RP.fat/RP.weight per_fat,\n",
    "        RP.carbo total_carbo, RP.carbo/RP.weight per_carbo, RP.protein total_protein, RP.protein/RP.weight per_protein\n",
    "    FROM Recipes R, Recipe_Profile RP\n",
    "    WHERE R.Recipe_Id = RP.Recipe_Id\n",
    "    GROUP BY R.Recipe_Id\n",
    "    ORDER BY Region;\n",
    "\n",
    "CALL CSVWRITE('../data/processed/RecipeProfile.csv', 'SELECT * FROM RecipeProfileComplete');"
   ]
  },
  {
   "cell_type": "markdown",
   "metadata": {},
   "source": [
    "## Perfil Nutricional Regional"
   ]
  },
  {
   "cell_type": "code",
   "execution_count": 34,
   "metadata": {},
   "outputs": [
    {
     "data": {
      "application/vnd.jupyter.widget-view+json": {
       "model_id": "e488bd2a-1853-4bb3-80a6-9c407a30db09",
       "version_major": 2,
       "version_minor": 0
      },
      "method": "display_data"
     },
     "metadata": {},
     "output_type": "display_data"
    },
    {
     "data": {
      "application/vnd.jupyter.widget-view+json": {
       "model_id": "7200d003-017d-4c48-b16d-19f9258f8cab",
       "version_major": 2,
       "version_minor": 0
      },
      "method": "display_data"
     },
     "metadata": {},
     "output_type": "display_data"
    }
   ],
   "source": [
    "DROP TABLE IF EXISTS Region_Profile;\n",
    "\n",
    "CREATE TABLE Region_Profile (\n",
    "    Region VARCHAR(50),\n",
    "    Food_Total_Weight_Kg FLOAT DEFAULT 0,\n",
    "    Total_Fat FLOAT DEFAULT 0,\n",
    "    Total_Protein FLOAT DEFAULT 0,\n",
    "    Total_Carbo FLOAT DEFAULT 0,\n",
    "    Per_Fat FLOAT DEFAULT 0,\n",
    "    Per_Protein FLOAT DEFAULT 0,\n",
    "    Per_Carbo FLOAT DEFAULT 0,\n",
    "    PRIMARY KEY(Region)\n",
    ");\n",
    "\n",
    "INSERT INTO Region_Profile(Region) SELECT DISTINCT Region FROM Recipes;\n",
    "\n",
    "UPDATE Region_Profile RP\n",
    "SET\n",
    "    Food_Total_Weight_Kg = (SELECT COALESCE(SUM(RPC.recipe_weight/1000), 0) FROM RecipeProfileComplete RPC WHERE RPC.Region = RP.Region),\n",
    "    Total_Fat = (SELECT COALESCE(SUM(RPC.total_fat/1000), 0) FROM RecipeProfileComplete RPC WHERE RPC.Region = RP.Region),\n",
    "    Total_Carbo = (SELECT COALESCE(SUM(RPC.total_carbo/1000), 0) FROM RecipeProfileComplete RPC WHERE RPC.Region = RP.Region),\n",
    "    Total_Protein = (SELECT COALESCE(SUM(RPC.total_protein/1000), 0) FROM RecipeProfileComplete RPC WHERE RPC.Region = RP.Region);\n",
    "\n",
    "UPDATE Region_Profile RP\n",
    "SET\n",
    "    Per_Protein = Total_Protein/Food_Total_Weight_Kg,\n",
    "    Per_Fat = Total_Fat/Food_Total_Weight_Kg,\n",
    "    Per_Carbo = Total_Carbo/Food_Total_Weight_Kg; \n",
    "\n",
    "SELECT * FROM Region_Profile;\n",
    "CALL CSVWRITE('../data/processed/RegionalNutricionalProfile.csv', 'SELECT * FROM Region_Profile');"
   ]
  },
  {
   "cell_type": "markdown",
   "metadata": {},
   "source": [
    "O desvio padrão dos percentuais nos mostram que o perfil nutricional de diferentes regiões convergem"
   ]
  },
  {
   "cell_type": "code",
   "execution_count": 40,
   "metadata": {},
   "outputs": [
    {
     "data": {
      "application/vnd.jupyter.widget-view+json": {
       "model_id": "63c31e37-50a5-480c-9347-d5f6cc165f78",
       "version_major": 2,
       "version_minor": 0
      },
      "method": "display_data"
     },
     "metadata": {},
     "output_type": "display_data"
    }
   ],
   "source": [
    "SELECT STDDEV(Per_Fat) DSP_Fat, AVG(Per_Fat) AVG_Fat,\n",
    "        STDDEV(Per_Protein) DSP_Protein, AVG(Per_Protein) AVG_Protein,\n",
    "        STDDEV(Per_Carbo) DSP_Carbo, AVG(Per_Carbo) AVG_Carbo FROM Region_Profile;"
   ]
  }
 ],
 "metadata": {
  "kernelspec": {
   "display_name": "SQL",
   "language": "SQL",
   "name": "sql"
  },
  "language_info": {
   "codemirror_mode": "sql",
   "file_extension": ".sql",
   "mimetype": "",
   "name": "SQL",
   "nbconverter_exporter": "",
   "version": ""
  },
  "toc": {
   "base_numbering": 1,
   "nav_menu": {},
   "number_sections": false,
   "sideBar": false,
   "skip_h1_title": false,
   "title_cell": "Table of Contents",
   "title_sidebar": "Contents",
   "toc_cell": false,
   "toc_position": {},
   "toc_section_display": false,
   "toc_window_display": false
  }
 },
 "nbformat": 4,
 "nbformat_minor": 2
}
