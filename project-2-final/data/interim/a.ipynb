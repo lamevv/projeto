{
 "cells": [
  {
   "cell_type": "code",
   "execution_count": 4,
   "metadata": {},
   "outputs": [],
   "source": [
    "import pandas as pd\n",
    "\n",
    "# Carregar o arquivo IngredientOnFood\n",
    "df = pd.read_csv('IngredientOnFood.csv')\n",
    "\n",
    "# Remover linhas duplicadas com base nas colunas recipe_id e food_id\n",
    "df.drop_duplicates(subset=['Recipe_ID', 'Food_ID'], inplace=True)\n",
    "\n",
    "# Salvar o arquivo atualizado\n",
    "df.to_csv('IngredientOnFood2.csv', index=False)\n"
   ]
  }
 ],
 "metadata": {
  "kernelspec": {
   "display_name": "Python 3",
   "language": "python",
   "name": "python3"
  },
  "language_info": {
   "codemirror_mode": {
    "name": "ipython",
    "version": 3
   },
   "file_extension": ".py",
   "mimetype": "text/x-python",
   "name": "python",
   "nbconvert_exporter": "python",
   "pygments_lexer": "ipython3",
   "version": "3.10.12"
  }
 },
 "nbformat": 4,
 "nbformat_minor": 2
}
